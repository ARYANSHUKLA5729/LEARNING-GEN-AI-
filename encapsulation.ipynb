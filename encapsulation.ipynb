{
 "cells": [
  {
   "cell_type": "code",
   "execution_count": 1,
   "id": "627137bd",
   "metadata": {},
   "outputs": [
    {
     "name": "stdout",
     "output_type": "stream",
     "text": [
      "aryan\n",
      "['__class__', '__delattr__', '__dict__', '__dir__', '__doc__', '__eq__', '__firstlineno__', '__format__', '__ge__', '__getattribute__', '__getstate__', '__gt__', '__hash__', '__init__', '__init_subclass__', '__le__', '__lt__', '__module__', '__ne__', '__new__', '__reduce__', '__reduce_ex__', '__repr__', '__setattr__', '__sizeof__', '__static_attributes__', '__str__', '__subclasshook__', '__weakref__', 'age', 'name']\n"
     ]
    }
   ],
   "source": [
    "# encapsulation in oops\n",
    "\n",
    "class Person:\n",
    "    def __init__(self,name,age):\n",
    "        \n",
    "        self.name = name  # public variable can be accesed from outside\n",
    "                           #the class. For example, after creating an object, you can access its attributes directly.\n",
    "                          #public variable\n",
    "        self.age = age\n",
    "        \n",
    "person = Person(\"aryan\",21)\n",
    "print(person.name)\n",
    "\n",
    "print(dir(person))#The dir() function can be used to inspect the available methods and variables of an object"
   ]
  },
  {
   "cell_type": "code",
   "execution_count": 2,
   "id": "0accb703",
   "metadata": {},
   "outputs": [
    {
     "name": "stdout",
     "output_type": "stream",
     "text": [
      "('aryan', 21)\n",
      "('aryan', 21)\n"
     ]
    }
   ],
   "source": [
    "def get_name (Person):\n",
    "    return person.name, person.age\n",
    "\n",
    "print(get_name(person))\n",
    "print(get_name(person))"
   ]
  },
  {
   "cell_type": "code",
   "execution_count": null,
   "id": "d05542a6",
   "metadata": {},
   "outputs": [],
   "source": []
  }
 ],
 "metadata": {
  "kernelspec": {
   "display_name": "base",
   "language": "python",
   "name": "python3"
  },
  "language_info": {
   "codemirror_mode": {
    "name": "ipython",
    "version": 3
   },
   "file_extension": ".py",
   "mimetype": "text/x-python",
   "name": "python",
   "nbconvert_exporter": "python",
   "pygments_lexer": "ipython3",
   "version": "3.13.5"
  }
 },
 "nbformat": 4,
 "nbformat_minor": 5
}
