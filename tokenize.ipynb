{
 "cells": [
  {
   "cell_type": "code",
   "execution_count": null,
   "id": "8b5c92e5",
   "metadata": {},
   "outputs": [],
   "source": [
    "pip install nltk"
   ]
  },
  {
   "cell_type": "code",
   "execution_count": null,
   "id": "6c51639e",
   "metadata": {},
   "outputs": [],
   "source": [
    "corpus = '''Hello.\\nWelcome,\\nHello welcome to Krishna NLP tutorials.\\nPlease do watch the entire course to become expert in NLP!'''\n",
    "# print(corpus)\n",
    "\n",
    "from nltk.tokenize import sent_tokenize\n",
    "sentences = sent_tokenize(corpus)\n",
    "print(sentences)\n",
    "\n",
    "for sentence in sentences:\n",
    "    print(sentence)"
   ]
  },
  {
   "cell_type": "code",
   "execution_count": null,
   "id": "27f4af83",
   "metadata": {},
   "outputs": [],
   "source": [
    "from nltk.tokenize import wordpunct_tokenize\n",
    "print(wordpunct_tokenize(corpus))"
   ]
  },
  {
   "cell_type": "code",
   "execution_count": null,
   "id": "37940665",
   "metadata": {},
   "outputs": [],
   "source": [
    "from nltk.tokenize import TreebankWordTokenizer\n",
    "tokenizer = TreebankWordTokenizer()\n",
    "print(tokenizer.tokenize(corpus))\n",
    "\n",
    "\n",
    "# NLTK also provides the TreebankWordTokenizer, which handles punctuation differently. For instance, it does not always treat periods as separate tokens except for the last word in a sentence"
   ]
  },
  {
   "cell_type": "code",
   "execution_count": null,
   "id": "39dbfb31",
   "metadata": {},
   "outputs": [],
   "source": [
    "from nltk.stem import PorterStemmer\n",
    "\n",
    "poorter = PorterStemmer()\n",
    "\n",
    "shabd = [\"eats\",\"eating\",\"eaten\",\"congrtaulate\",\"congratulating\",\"goes\",\"going\",\"gone\"]\n",
    "\n",
    "for shab in shabd:\n",
    "    print(f\"{shab} -> {porter.stem(shab)}\")\n",
    "    \n",
    "print(poorter.stem(\"programming\"))\n",
    "print(porter.stem(\"history\"))"
   ]
  },
  {
   "cell_type": "code",
   "execution_count": null,
   "id": "d1657e55",
   "metadata": {},
   "outputs": [],
   "source": [
    "# The Regexp Stemmer class allows stemming based on regular expressions.\n",
    "# It removes prefixes or suffixes matching a given regular expression.\n",
    "# This provides flexibility in defining stemming rules.\n",
    "\n",
    "from nltk.stem import RegexpStemmer\n",
    "\n",
    "regxp_stemmer = RegexpStemmer('(ing|able|s|e)$')\n",
    "\n",
    "words = [\"eating\", \"writes\", \"disable\", \"finalize\",\"comparable\",\"differentiable\",\"news\"]\n",
    "\n",
    "for word in words:\n",
    "    print(f\"{word} -> {regxp_stemmer.stem(word)}\")"
   ]
  },
  {
   "cell_type": "code",
   "execution_count": null,
   "id": "08123497",
   "metadata": {},
   "outputs": [],
   "source": [
    "paragraph = \"I have three visions for India. In 3000 years of our history people from all over the world have come and invaded us, captured our lands, conquered our minds. From Alexander onwards the Greeks, the Turks, the Moguls, the Portuguese, the British, the French, the Dutch, all of them came and looted us, took over what was ours. Yet we have not done this to any other nation. We have not conquered anyone. We have not grabbed their land, their culture and their history and tried to enforce our way of life on them. Why? Because we respect the freedom of others. That is why my FIRST VISION is that of FREEDOM. I believe that India got its first vision of this in 1857, when we started the war of Independence. It is this freedom that we must protect and nurture and build on. If we are not free, no one will respect us.We have 10 percent growth rate in most areas. Our poverty levels are falling. Our achievements are being globally recognised today. Yet we lack the self-confidence to see ourselves as a developed nation, self-reliant and self-assured. Isn’t this incorrect? MY SECOND VISION for India is DEVELOPMENT. For fifty years we have been a developing nation. It is time we see ourselves as a developed nation. We are among top five nations in the world in terms of GDP.I have a THIRD VISION. India must stand up to the world. Because I believe that unless India stands up to the world, no one will respect us. Only strength respects strength. We must be strong not only as a military power but also as an economic power. Both must go hand-in-hand. My good fortune was to have worked with three great minds. Dr.Vikram Sarabhai, of the Dept. of Space, Professor Satish Dhawan, who succeeded him and Dr. Brahm Prakash, father of nuclear material. I was lucky to have worked with all three of them closely and consider this the great opportunity of my life.I was in Hyderabad giving this lecture, when a 14 year-old girl asked me for my autograph. I asked her what her goal in life is. She replied: I want to live in a developed India. For her, you and I will have to build this developed India. You must proclaim India is not an underdeveloped nation; it is a highly developed nation.You say that our government is inefficient. You say that our laws are too old. You say that the municipality does not pick up the garbage. You say that the phones don’t work, the railways are a joke, the airline is the worst in the world, and mails never reach their destination. You say that our country has been fed to the dogs and is the absolute pits. You say, say and say. What do you do about it?Dear Indians, I am echoing J.F.Kennedy’s words to his fellow Americans to relate to Indians ……. “ASK WHAT WE CAN DO FOR INDIA AND DO WHAT HAS TO BE DONE TO MAKE INDIA WHAT AMERICA AND OTHER WESTERN COUNTRIES ARE TODAY\"\n",
    "\n",
    "from nltk.stem import PorterStemmer\n",
    "from nltk.corpus import stopwords\n",
    "from nltk.tokenize import sent_tokenize\n",
    "import nltk\n",
    "nltk.download('wordnet')\n",
    "nltk.download('stopwords')\n",
    "stopwords.words(\"english\")\n",
    "\n",
    "stemmer = PorterStemmer()\n",
    "sentence = sent_tokenize(paragraph)\n",
    "\n",
    "from nltk.tokenize import word_tokenize\n",
    "\n",
    "for i in range(len(sentence)):\n",
    "    words = word_tokenize(sentence[i])\n",
    "    words = [stemmer.stem(word) for word in words if word.lower() not in set(stopwords.words('english'))]\n",
    "    sentence[i] = ' '.join(words)\n",
    "\n",
    "from nltk.stem import WordNetLemmatizer\n",
    "lemmatizer = WordNetLemmatizer()\n",
    "\n",
    "for i in range (len(sentence)):\n",
    "    words = word_tokenize(sentence[i])\n",
    "    words = [lemmatizer.lemmatize(word.lower()) for word in words if word.lower() not in set(stopwords.words('english'))]\n",
    "    sentence[i] = ' '.join(words)\n",
    "    \n",
    "for i in range(len(sentence)):\n",
    "    words = word_tokenize(sentence[i])\n",
    "    words = [lemmatizer.lemmatize(word.lower()) for word in words if word.lower() not in set(stopwords.words('english'))]\n",
    "    sentence[i] = ' '.join(words)\n",
    "    \n",
    "   \n",
    " \n",
    " "
   ]
  },
  {
   "cell_type": "code",
   "execution_count": 10,
   "id": "47d222ea",
   "metadata": {},
   "outputs": [
    {
     "data": {
      "text/plain": [
       "['three vision india .',\n",
       " '3000 year histori peopl world come invad u , captur land , conquer mind .',\n",
       " 'alexand onward greek , turk , mogul , portugues , british , french , dutch , came loot u , took .',\n",
       " 'yet done nation .',\n",
       " 'conquer anyon .',\n",
       " 'grab land , cultur histori tri enforc way life .',\n",
       " '?',\n",
       " 'respect freedom .',\n",
       " 'first vision freedom .',\n",
       " 'believ india got first vision 1857 , start war independ .',\n",
       " 'freedom must protect nurtur build .',\n",
       " 'free , one respect us.w 10 percent growth rate area .',\n",
       " 'poverti level fall .',\n",
       " 'achiev global recognis today .',\n",
       " 'yet lack self-confid see develop nation , self-reli self-assur .',\n",
       " '’ incorrect ?',\n",
       " 'second vision india develop .',\n",
       " 'fifti year develop nation .',\n",
       " 'time see develop nation .',\n",
       " 'among top five nation world term gdp.i third vision .',\n",
       " 'india must stand world .',\n",
       " 'believ unless india stand world , one respect u .',\n",
       " 'strength respect strength .',\n",
       " 'must strong militari power also econom power .',\n",
       " 'must go hand-in-hand .',\n",
       " 'good fortun work three great mind .',\n",
       " 'dr.vikram sarabhai , dept .',\n",
       " 'space , professor satish dhawan , succeed dr. brahm prakash , father nuclear materi .',\n",
       " 'lucki work three close consid great opportun life.i hyderabad give lectur , 14 year-old girl ask autograph .',\n",
       " 'ask goal life .',\n",
       " 'repli : want live develop india .',\n",
       " ', build develop india .',\n",
       " 'must proclaim india underdevelop nation ; highli develop nation.y say govern ineffici .',\n",
       " 'say law old .',\n",
       " 'say municip pick garbag .',\n",
       " 'say phone ’ work , railway joke , airlin worst world , mail never reach destin .',\n",
       " 'say countri fed dog absolut pit .',\n",
       " 'say , say say .',\n",
       " '? dear indian , echo j.f.kennedi ’ word fellow american relat indian …… .',\n",
       " '“ ask india done make india america western countri today']"
      ]
     },
     "execution_count": 10,
     "metadata": {},
     "output_type": "execute_result"
    }
   ],
   "source": [
    "sentence"
   ]
  },
  {
   "cell_type": "code",
   "execution_count": null,
   "id": "393f354c",
   "metadata": {},
   "outputs": [],
   "source": []
  },
  {
   "cell_type": "code",
   "execution_count": null,
   "id": "d0bfff01",
   "metadata": {},
   "outputs": [],
   "source": []
  }
 ],
 "metadata": {
  "kernelspec": {
   "display_name": "base",
   "language": "python",
   "name": "python3"
  },
  "language_info": {
   "codemirror_mode": {
    "name": "ipython",
    "version": 3
   },
   "file_extension": ".py",
   "mimetype": "text/x-python",
   "name": "python",
   "nbconvert_exporter": "python",
   "pygments_lexer": "ipython3",
   "version": "3.13.5"
  }
 },
 "nbformat": 4,
 "nbformat_minor": 5
}
